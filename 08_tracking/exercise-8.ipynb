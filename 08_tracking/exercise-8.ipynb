{
 "cells": [
  {
   "cell_type": "markdown",
   "metadata": {},
   "source": [
    "# Exercise 8: Tracking"
   ]
  },
  {
   "cell_type": "markdown",
   "metadata": {
    "id": "JWC5tKyP3x1e"
   },
   "source": [
    "Some code cells will be marked with \n",
    "```\n",
    "##########################\n",
    "######## To Do ###########\n",
    "##########################\n",
    "```\n",
    "\n",
    "This indicates that you are being asked to write a piece of code to complete the notebook."
   ]
  },
  {
   "cell_type": "code",
   "execution_count": 1,
   "metadata": {},
   "outputs": [],
   "source": [
    "import os\n",
    "\n",
    "import numpy as np\n",
    "\n",
    "import imageio\n",
    "import matplotlib.pyplot as plt\n",
    "\n",
    "import tensorflow as tf\n",
    "from tensorflow.keras import backend as K"
   ]
  },
  {
   "cell_type": "markdown",
   "metadata": {},
   "source": [
    "## Problem framing\n",
    "\n",
    "Given robust segmentation models, cell tracking can be framed simply as a problem of connecting objects between frames. To begin examining this problem, we will start by loading a time lapse movie of fluorescent nuclei."
   ]
  },
  {
   "cell_type": "code",
   "execution_count": 2,
   "metadata": {},
   "outputs": [
    {
     "name": "stderr",
     "output_type": "stream",
     "text": [
      "/Users/morganschwartz/opt/anaconda3/envs/mbl/lib/python3.8/site-packages/tensorflow/python/keras/optimizer_v2/optimizer_v2.py:374: UserWarning: The `lr` argument is deprecated, use `learning_rate` instead.\n",
      "  warnings.warn(\n"
     ]
    },
    {
     "name": "stdout",
     "output_type": "stream",
     "text": [
      "X_train shape: (14, 40, 216, 256, 1)\n",
      "X_test shape: (4, 40, 216, 256, 1)\n"
     ]
    }
   ],
   "source": [
    "from deepcell.datasets.tracked import hela_s3_bench\n",
    "\n",
    "(X_train, y_train), (X_test, y_test) = hela_s3_bench.load_tracked_data(seed=0)\n",
    "\n",
    "print('X_train shape:', X_train.shape)\n",
    "print('X_test shape:', X_test.shape)"
   ]
  },
  {
   "cell_type": "code",
   "execution_count": 3,
   "metadata": {},
   "outputs": [],
   "source": [
    "x = X_train[12]  # chosen batch with divisions"
   ]
  },
  {
   "cell_type": "code",
   "execution_count": 4,
   "metadata": {},
   "outputs": [],
   "source": [
    "def plot(im):\n",
    "    fig, ax = plt.subplots(figsize=(6, 6))\n",
    "    ax.imshow(im)\n",
    "    plt.axis('off')\n",
    "    plt.title('Raw Image Data')\n",
    "\n",
    "    fig.canvas.draw()  # draw the canvas, cache the renderer\n",
    "    image = np.frombuffer(fig.canvas.tostring_rgb(), dtype='uint8')\n",
    "    image = image.reshape(fig.canvas.get_width_height()[::-1] + (3,))\n",
    "\n",
    "    plt.close(fig)\n",
    "\n",
    "    return image\n",
    "\n",
    "imageio.mimsave('raw.gif', [plot(x[i, ..., 0]) for i in range(x.shape[0])])"
   ]
  },
  {
   "cell_type": "markdown",
   "metadata": {},
   "source": [
    "![Raw Gif](./raw.gif)"
   ]
  },
  {
   "cell_type": "markdown",
   "metadata": {
    "raw_mimetype": "text/restructuredtext"
   },
   "source": [
    "### Initialize nuclear model\n",
    "\n",
    "The application will download pretrained weights for nuclear segmentation. For more information about application objects, please see our [documentation](https://deepcell.readthedocs.io/en/master/API/deepcell.applications.html)."
   ]
  },
  {
   "cell_type": "code",
   "execution_count": 5,
   "metadata": {},
   "outputs": [
    {
     "name": "stdout",
     "output_type": "stream",
     "text": [
      "WARNING:tensorflow:SavedModel saved prior to TF 2.5 detected when loading Keras model. Please ensure that you are saving the model with model.save() or tf.keras.models.save_model(), *NOT* tf.saved_model.save(). To confirm, there should be a file named \"keras_metadata.pb\" in the SavedModel directory.\n"
     ]
    },
    {
     "name": "stderr",
     "output_type": "stream",
     "text": [
      "2021-09-12 13:19:46.709359: I tensorflow/core/platform/cpu_feature_guard.cc:142] This TensorFlow binary is optimized with oneAPI Deep Neural Network Library (oneDNN) to use the following CPU instructions in performance-critical operations:  AVX2 FMA\n",
      "To enable them in other operations, rebuild TensorFlow with the appropriate compiler flags.\n"
     ]
    },
    {
     "name": "stdout",
     "output_type": "stream",
     "text": [
      "WARNING:tensorflow:No training configuration found in save file, so the model was *not* compiled. Compile it manually.\n"
     ]
    }
   ],
   "source": [
    "from deepcell.applications import NuclearSegmentation\n",
    "\n",
    "app = NuclearSegmentation()"
   ]
  },
  {
   "cell_type": "markdown",
   "metadata": {
    "raw_mimetype": "text/restructuredtext"
   },
   "source": [
    "### Use the application to generate labeled images\n",
    "\n",
    "Typically, neural networks perform best on test data that is similar to the training data. In the realm of biological imaging, the most common difference between datasets is the resolution of the data measured in microns per pixel. The training resolution of the model can be identified using `app.model_mpp`."
   ]
  },
  {
   "cell_type": "code",
   "execution_count": 6,
   "metadata": {},
   "outputs": [
    {
     "name": "stdout",
     "output_type": "stream",
     "text": [
      "Training Resolution: 0.65 microns per pixel\n"
     ]
    }
   ],
   "source": [
    "print('Training Resolution:', app.model_mpp, 'microns per pixel')"
   ]
  },
  {
   "cell_type": "markdown",
   "metadata": {
    "raw_mimetype": "text/restructuredtext"
   },
   "source": [
    "The resolution of the input data can be specified in `app.predict` using the `image_mpp` option. The `Application` will rescale the input data to match the training resolution and then rescale to the original size before returning the labeled image."
   ]
  },
  {
   "cell_type": "code",
   "execution_count": 7,
   "metadata": {},
   "outputs": [
    {
     "name": "stderr",
     "output_type": "stream",
     "text": [
      "2021-09-12 13:19:54.411862: I tensorflow/compiler/mlir/mlir_graph_optimization_pass.cc:176] None of the MLIR Optimization Passes are enabled (registered 2)\n"
     ]
    },
    {
     "name": "stdout",
     "output_type": "stream",
     "text": [
      "(40, 216, 256, 1)\n"
     ]
    }
   ],
   "source": [
    "y_pred = app.predict(x, image_mpp=0.65)\n",
    "\n",
    "print(y_pred.shape)"
   ]
  },
  {
   "cell_type": "markdown",
   "metadata": {
    "raw_mimetype": "text/restructuredtext"
   },
   "source": [
    "### Save labeled images as a gif to visualize"
   ]
  },
  {
   "cell_type": "code",
   "execution_count": 8,
   "metadata": {},
   "outputs": [],
   "source": [
    "def plot(im1, im2, vmin, vmax):\n",
    "    fig, ax = plt.subplots(1, 2, figsize=(12, 6))\n",
    "    ax[0].imshow(im1)\n",
    "    ax[0].axis('off')\n",
    "    ax[0].set_title('Raw')\n",
    "    ax[1].imshow(im2, cmap='jet', vmin=vmin, vmax=vmax)\n",
    "    ax[1].set_title('Segmented')\n",
    "    ax[1].axis('off')\n",
    "\n",
    "    fig.canvas.draw()  # draw the canvas, cache the renderer\n",
    "    image = np.frombuffer(fig.canvas.tostring_rgb(), dtype='uint8')\n",
    "    image = image.reshape(fig.canvas.get_width_height()[::-1] + (3,))\n",
    "    plt.close(fig)\n",
    "\n",
    "    return image\n",
    "\n",
    "imageio.mimsave(\n",
    "    './labeled.gif',\n",
    "    [plot(x[i,...,0], y_pred[i,...,0], y_pred.min(), y_pred.max())\n",
    "     for i in range(y_pred.shape[0])]\n",
    ")"
   ]
  },
  {
   "cell_type": "markdown",
   "metadata": {},
   "source": [
    "Now we can see that the nuclear model successfully created a label mask for each cell however if you look closely you can see that the label of each cells changes over time. After tracking the cells, we want the label to be consistent over time.\n",
    "\n",
    "![Segmented GIF](./labeled.gif)"
   ]
  },
  {
   "cell_type": "markdown",
   "metadata": {},
   "source": [
    "## Linear assignment approach to cell tracking\n",
    "\n",
    "Now that we have a set of nuclear objects labeled in each frame, cell tracking can be framed simply as a problem of connecting objects in frame n to objects in frame n+1. However we need to also deal with the possibility that cells can die or divide into new daughter cells. In order to accomodate this complication, we have adapted a linear assignment framework first introduced by Jaqaman et al (2008). The goal of the linear assignment algorithm is to select a set of pairs such that the sum of the selected weights is minimized. In the framework established by Jaqaman et al, the cost matrix is divided into four quadrants. The top left and bottom right corners correspond to direct matches between objects in frame n to objects in frame n+1. The bottom left corner is populated by a diagonal matrix where diagonal values correspond to the probability of a cell dividing. The top right corner is filled with another diagonal matrix in which the diagonal values correspond to the probability of cell death. A diagram of the cost matrix is shown below. \n",
    "\n",
    "\n",
    "[Jaqaman et al (2008). Robust single-particle tracking in live-cell time-lapse sequences. Nature methods, 5(8), 695-702.](https://www.ncbi.nlm.nih.gov/pmc/articles/PMC2747604/)"
   ]
  },
  {
   "cell_type": "markdown",
   "metadata": {},
   "source": [
    "![Linear Assignment Process](./LAP_Process.jpg)"
   ]
  },
  {
   "cell_type": "markdown",
   "metadata": {},
   "source": [
    "### Calculate IoU\n",
    "In order to populate the top left and bottom right corners of the cost matrix, we can begin by using the intersection-over-union of each pair of objects between frame n and frame n+1. This metric gives us a measurement of the overlap between objects. First, write a function to calculate the intersection-over-union between two cells."
   ]
  },
  {
   "cell_type": "code",
   "execution_count": 9,
   "metadata": {},
   "outputs": [],
   "source": [
    "##########################\n",
    "######## To Do ###########\n",
    "##########################\n",
    "\n",
    "def calculate_iou(mask1, mask2):\n",
    "    \"\"\"Calculates intersection-over-union between two binary masks\n",
    "    \n",
    "    Args:\n",
    "        mask1 (np.array): Binary array for the mask of one cell\n",
    "        mask2 (np.array): Binary array for the mask of the second cell\n",
    "        \n",
    "    Returns:\n",
    "        float: IoU value\n",
    "    \"\"\"\n",
    "    \n",
    "    pass"
   ]
  },
  {
   "cell_type": "markdown",
   "metadata": {},
   "source": [
    "### Prepare IoU Matrix\n",
    "We can now use the function `calculate_iou` as the basis for a function that takes in two frames and calculates the iou value for each possible pair of cells between the two frames."
   ]
  },
  {
   "cell_type": "code",
   "execution_count": 11,
   "metadata": {},
   "outputs": [],
   "source": [
    "from skimage.segmentation import relabel_sequential"
   ]
  },
  {
   "cell_type": "code",
   "execution_count": 12,
   "metadata": {},
   "outputs": [],
   "source": [
    "##########################\n",
    "######## To Do ###########\n",
    "##########################\n",
    "\n",
    "def prepare_iou_matrix(frame1, frame2):\n",
    "    \"\"\"Prepares a matrix comparing cells in frame 1 to cells in frame2\n",
    "    based on the iou of the two cells\n",
    "    \n",
    "    Args:\n",
    "        frame1 (np.array): Labeled array for the first frame with n cells\n",
    "        frame2 (np.array): Labeled array for the second frame with m cells\n",
    "        \n",
    "    Returns:\n",
    "        np.array: nxm array\n",
    "    \"\"\"\n",
    "    # Relabel both arrays sequentially to make calculations easier\n",
    "    frame1= relabel_sequential(frame1)[0]\n",
    "    frame2 = relabel_sequential(frame2)[0]\n",
    "    \n",
    "    # Add your code here\n",
    "    # Remember to skip the background (0) when calculating iou\n",
    "    \n",
    "    pass"
   ]
  },
  {
   "cell_type": "markdown",
   "metadata": {},
   "source": [
    "### Inspect IoU matrix\n",
    "Let's take a look at the iou matrices for 3 frames, two of which have divisions. In the second and third examples you should see that we cannot directly use this matrix to assign cells in the first frame to the second frame because the parent cell in the first frame significantly overlaps with two daughter cells in the second frame."
   ]
  },
  {
   "cell_type": "code",
   "execution_count": 14,
   "metadata": {},
   "outputs": [
    {
     "data": {
      "image/png": "[encoded data removed]",
      "text/plain": [
       "<Figure size 720x720 with 4 Axes>"
      ]
     },
     "metadata": {
      "needs_background": "light"
     },
     "output_type": "display_data"
    },
    {
     "data": {
      "image/png": "[encoded data removed]",
      "text/plain": [
       "<Figure size 720x720 with 4 Axes>"
      ]
     },
     "metadata": {
      "needs_background": "light"
     },
     "output_type": "display_data"
    },
    {
     "data": {
      "image/png": "[encoded data removed]",
      "text/plain": [
       "<Figure size 720x720 with 4 Axes>"
      ]
     },
     "metadata": {
      "needs_background": "light"
     },
     "output_type": "display_data"
    }
   ],
   "source": [
    "for i in [0, 21, 23]:\n",
    "    iou = prepare_iou_matrix(y_pred[i], y_pred[i+1])\n",
    "    fig,ax = plt.subplots(1,3, figsize=(10,10))\n",
    "    ax[0].imshow(y_pred[i,...,0])\n",
    "    ax[0].set_title('Frame {}'.format(i))\n",
    "    ax[1].imshow(y_pred[i+1,...,0])\n",
    "    ax[1].set_title('Frame {}'.format(i+1))\n",
    "    cax = ax[2].imshow(iou)\n",
    "    fig.colorbar(cax, ax=ax[2], shrink=0.3)"
   ]
  },
  {
   "cell_type": "markdown",
   "metadata": {},
   "source": [
    "### Setup cost matrix\n",
    "We are now ready to populate the complete cost matrix beginning first with the IoU matrix that we prepared. The linear assignment algorithm is going to minimize the sum of the weights so we will first initialize the cost matrix with an array of ones. The top left and bottom right corners are set to 1 - IoU. The top right corner is an array of ones with the diagonal set to 1 - P(death). Finally the bottom left corner is an array of ones with the diagonal set to 1 - P(birth). We will start with P(death) and P(birth) equal to 0.5, but these hyperparameters can be tuned to optimize performance."
   ]
  },
  {
   "cell_type": "code",
   "execution_count": 15,
   "metadata": {},
   "outputs": [],
   "source": [
    "def make_cost_matrix(frame1, frame2, birth_prob, death_prob):\n",
    "    iou = prepare_iou_matrix(frame1, frame2)\n",
    "    \n",
    "    num1 = iou.shape[0]\n",
    "    num2 = iou.shape[1]\n",
    "    nobj = num1 + num2\n",
    "    \n",
    "    matrix = np.ones((nobj, nobj))\n",
    "    \n",
    "    # 1 - iou to top left and bottom right corners\n",
    "    cost = 1 - iou\n",
    "    matrix[:num1, :num2] = cost\n",
    "    matrix[nobj - num2:, nobj - num1:] = cost.T\n",
    "    \n",
    "    # Create diagonal corners with the birth and death rate on diagonals\n",
    "    birth = (birth_prob * np.eye(num2) + np.ones((num2, num2)) - np.eye(num2))\n",
    "    death = (death_prob * np.eye(num1) + np.ones((num1, num1)) - np.eye(num1))\n",
    "    \n",
    "    # Add diagonal cost columns to bottom left and top right corners\n",
    "    matrix[nobj - num2:, :num2] = birth\n",
    "    matrix[:num1, nobj - num1:] = death\n",
    "    \n",
    "    return matrix"
   ]
  },
  {
   "cell_type": "markdown",
   "metadata": {},
   "source": [
    "We'll take a look at the cost matrix for frame 23/24 where there is a division."
   ]
  },
  {
   "cell_type": "code",
   "execution_count": 16,
   "metadata": {},
   "outputs": [],
   "source": [
    "t = 23\n",
    "cost_matrix = make_cost_matrix(y_pred[t], y_pred[t+1], 0.6, 0.3)"
   ]
  },
  {
   "cell_type": "code",
   "execution_count": 17,
   "metadata": {},
   "outputs": [
    {
     "data": {
      "text/plain": [
       "<matplotlib.colorbar.Colorbar at 0x7ff40cc70ee0>"
      ]
     },
     "execution_count": 17,
     "metadata": {},
     "output_type": "execute_result"
    },
    {
     "data": {
      "image/png": "[encoded data removed]",
      "text/plain": [
       "<Figure size 720x720 with 4 Axes>"
      ]
     },
     "metadata": {
      "needs_background": "light"
     },
     "output_type": "display_data"
    }
   ],
   "source": [
    "fig,ax = plt.subplots(1,3, figsize=(10,10))\n",
    "ax[0].imshow(y_pred[t,...,0])\n",
    "ax[0].set_title('Frame {}'.format(t))\n",
    "ax[1].imshow(y_pred[t+1,...,0])\n",
    "ax[1].set_title('Frame {}'.format(t+1))\n",
    "cax = ax[2].imshow(cost_matrix)\n",
    "fig.colorbar(cax, ax=ax[2], shrink=0.3)"
   ]
  },
  {
   "cell_type": "markdown",
   "metadata": {},
   "source": [
    "### Perform linear assignment"
   ]
  },
  {
   "cell_type": "code",
   "execution_count": 18,
   "metadata": {},
   "outputs": [],
   "source": [
    "from scipy.optimize import linear_sum_assignment"
   ]
  },
  {
   "cell_type": "code",
   "execution_count": 19,
   "metadata": {},
   "outputs": [],
   "source": [
    "row_ind, col_ind = linear_sum_assignment(cost_matrix)"
   ]
  },
  {
   "cell_type": "markdown",
   "metadata": {},
   "source": [
    "Let's map these results into an array so that we can visualize the results."
   ]
  },
  {
   "cell_type": "code",
   "execution_count": 20,
   "metadata": {},
   "outputs": [
    {
     "data": {
      "text/plain": [
       "<matplotlib.image.AxesImage at 0x7ff40d4457c0>"
      ]
     },
     "execution_count": 20,
     "metadata": {},
     "output_type": "execute_result"
    },
    {
     "data": {
      "image/png": "[encoded data removed]",
      "text/plain": [
       "<Figure size 720x720 with 3 Axes>"
      ]
     },
     "metadata": {
      "needs_background": "light"
     },
     "output_type": "display_data"
    }
   ],
   "source": [
    "mapping = np.zeros((np.max(row_ind)+1, np.max(col_ind)+1))\n",
    "for r, c in zip(row_ind, col_ind):\n",
    "    mapping[r, c] = 1\n",
    "\n",
    "i = 23\n",
    "fig,ax = plt.subplots(1,3, figsize=(10,10))\n",
    "ax[0].imshow(y_pred[i,...,0])\n",
    "ax[0].set_title('Frame {}'.format(i))\n",
    "ax[1].imshow(y_pred[i+1,...,0])\n",
    "ax[1].set_title('Frame {}'.format(i+1))\n",
    "ax[2].imshow(mapping)"
   ]
  },
  {
   "cell_type": "code",
   "execution_count": 21,
   "metadata": {},
   "outputs": [
    {
     "data": {
      "text/plain": [
       "(array([ 0,  1,  2,  3,  4,  5,  6,  7,  8,  9, 10, 11, 12, 13, 14, 15, 16,\n",
       "        17, 18, 19, 20, 21, 22, 23, 24, 25, 26, 27]),\n",
       " array([ 0,  1,  2, 17, 18,  5,  6,  7, 22,  8, 10, 11, 12, 13, 14, 15, 16,\n",
       "         3,  4, 19, 20, 21, 23,  9, 24, 25, 26, 27]))"
      ]
     },
     "execution_count": 21,
     "metadata": {},
     "output_type": "execute_result"
    }
   ],
   "source": [
    "row_ind, col_ind"
   ]
  },
  {
   "cell_type": "markdown",
   "metadata": {},
   "source": [
    "## Deep learning for cell tracking\n",
    "\n",
    "While the IoU value for each pair of cells is a useful initial probability of two cells being the same between frames, it is ultimately an imperfect metric. Instead we can train a deep learning model to predict the probability of two cells being the same. The model can use information about the cell and its neighborhood in order to produce an accurate prediction. In the `deepcell_tracking` package, we have introduced the `CellTracker` which handles creating the cost matrix, performing linear assignment, and managing the cell lineage data structure to keep track of the trajectory of cells beween frames. "
   ]
  },
  {
   "cell_type": "markdown",
   "metadata": {
    "raw_mimetype": "text/restructuredtext"
   },
   "source": [
    "### Initalize CellTracking application\n",
    "\n",
    "Create an instance of `deepcell.applications.CellTracking`. You can learn more about how to train this model in [Training and Tracking with GNNs](https://github.com/vanvalenlab/deepcell-tf/blob/master/notebooks/training/tracking/Training%20and%20Tracking%20with%20GNNs.ipynb)"
   ]
  },
  {
   "cell_type": "code",
   "execution_count": 22,
   "metadata": {},
   "outputs": [
    {
     "name": "stdout",
     "output_type": "stream",
     "text": [
      "Downloading data from https://deepcell-data.s3-us-west-1.amazonaws.com/saved-models/TrackingModelNE-2.tar.gz\n",
      "819200/818181 [==============================] - 0s 0us/step\n",
      "WARNING:tensorflow:No training configuration found in save file, so the model was *not* compiled. Compile it manually.\n",
      "Downloading data from https://deepcell-data.s3-us-west-1.amazonaws.com/saved-models/TrackingModel-4.tar.gz\n",
      "647168/645484 [==============================] - 0s 0us/step\n",
      "WARNING:tensorflow:SavedModel saved prior to TF 2.5 detected when loading Keras model. Please ensure that you are saving the model with model.save() or tf.keras.models.save_model(), *NOT* tf.saved_model.save(). To confirm, there should be a file named \"keras_metadata.pb\" in the SavedModel directory.\n",
      "WARNING:tensorflow:No training configuration found in save file, so the model was *not* compiled. Compile it manually.\n"
     ]
    }
   ],
   "source": [
    "from deepcell.applications import CellTracking\n",
    "\n",
    "tracker = CellTracking()"
   ]
  },
  {
   "cell_type": "markdown",
   "metadata": {},
   "source": [
    "### Track the cells"
   ]
  },
  {
   "cell_type": "code",
   "execution_count": 23,
   "metadata": {},
   "outputs": [],
   "source": [
    "tracked_data = tracker.track(np.copy(x), y_pred)\n",
    "X = tracked_data['X']  # raw X data\n",
    "y = tracked_data['y_tracked']  # tracked y data"
   ]
  },
  {
   "cell_type": "markdown",
   "metadata": {
    "raw_mimetype": "text/restructuredtext"
   },
   "source": [
    "### Visualize tracking results"
   ]
  },
  {
   "cell_type": "code",
   "execution_count": 24,
   "metadata": {},
   "outputs": [],
   "source": [
    "def plot(im1,im2,vmin,vmax):\n",
    "    fig, ax = plt.subplots(1, 2, figsize=(12, 6))\n",
    "    ax[0].imshow(im1)\n",
    "    ax[0].axis('off')\n",
    "    ax[0].set_title('Raw')\n",
    "    ax[1].imshow(im2, cmap='jet', vmin=vmin, vmax=vmax)\n",
    "    ax[1].set_title('Tracked')\n",
    "    ax[1].axis('off')\n",
    "\n",
    "    fig.canvas.draw()  # draw the canvas, cache the renderer\n",
    "    image = np.frombuffer(fig.canvas.tostring_rgb(), dtype='uint8')\n",
    "    image = image.reshape(fig.canvas.get_width_height()[::-1] + (3,))\n",
    "    plt.close(fig)\n",
    "\n",
    "    return image\n",
    "\n",
    "imageio.mimsave('tracks.gif', [plot(X[i,...,0], y[i,...,0], y.min(), y.max())\n",
    "                               for i in range(y_pred.shape[0])])"
   ]
  },
  {
   "cell_type": "markdown",
   "metadata": {},
   "source": [
    "### View .GIF of tracked cells\n",
    "\n",
    "Now that we've finished using `CellTracker.track_cells`, not only do the annotations preserve label across frames, but the lineage information has been saved in `CellTracker.tracks`."
   ]
  },
  {
   "cell_type": "markdown",
   "metadata": {},
   "source": [
    "![Tracked Cells GIF](./tracks.gif)"
   ]
  }
 ],
 "metadata": {
  "kernelspec": {
   "display_name": "Python [conda env:mbl]",
   "language": "python",
   "name": "conda-env-mbl-py"
  },
  "language_info": {
   "codemirror_mode": {
    "name": "ipython",
    "version": 3
   },
   "file_extension": ".py",
   "mimetype": "text/x-python",
   "name": "python",
   "nbconvert_exporter": "python",
   "pygments_lexer": "ipython3",
   "version": "3.8.11"
  }
 },
 "nbformat": 4,
 "nbformat_minor": 4
}
