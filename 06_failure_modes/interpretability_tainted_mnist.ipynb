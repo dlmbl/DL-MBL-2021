{
 "cells": [
  {
   "cell_type": "markdown",
   "metadata": {},
   "source": [
    "# Exercise 6: Failure Mode\n",
    "\n",
    "In the following exercise we explore failure of neural networks.\n",
    "\n",
    "### Installation:\n",
    "\n",
    "This exercise will use `pytorch`, `torchvision`, and `captum`. We have installed pytorch in previous exercises. Execute the next cell to install those requirements in your current conda environment. This needs to be done only once.\n",
    "\n",
    "### Acknowledgements\n",
    "\n",
    "This notebook was created by Steffen Wolf, and Jan Funke."
   ]
  },
  {
   "cell_type": "code",
   "execution_count": 1,
   "metadata": {},
   "outputs": [
    {
     "name": "stdout",
     "output_type": "stream",
     "text": [
      "Requirement already satisfied: captum in /home/swolf/miniconda3/envs/exercise1/lib/python3.8/site-packages (0.4.0)\r\n",
      "Requirement already satisfied: matplotlib in /home/swolf/miniconda3/envs/exercise1/lib/python3.8/site-packages (from captum) (3.4.3)\r\n",
      "Requirement already satisfied: numpy in /home/swolf/miniconda3/envs/exercise1/lib/python3.8/site-packages (from captum) (1.21.2)\r\n",
      "Requirement already satisfied: torch>=1.2 in /home/swolf/miniconda3/envs/exercise1/lib/python3.8/site-packages (from captum) (1.9.0)\r\n",
      "Requirement already satisfied: typing_extensions in /home/swolf/miniconda3/envs/exercise1/lib/python3.8/site-packages (from torch>=1.2->captum) (3.10.0.0)\r\n",
      "Requirement already satisfied: pyparsing>=2.2.1 in /home/swolf/miniconda3/envs/exercise1/lib/python3.8/site-packages (from matplotlib->captum) (2.4.7)\r\n",
      "Requirement already satisfied: cycler>=0.10 in /home/swolf/miniconda3/envs/exercise1/lib/python3.8/site-packages (from matplotlib->captum) (0.10.0)\r\n",
      "Requirement already satisfied: kiwisolver>=1.0.1 in /home/swolf/miniconda3/envs/exercise1/lib/python3.8/site-packages (from matplotlib->captum) (1.3.2)\r\n",
      "Requirement already satisfied: python-dateutil>=2.7 in /home/swolf/miniconda3/envs/exercise1/lib/python3.8/site-packages (from matplotlib->captum) (2.8.2)\r\n",
      "Requirement already satisfied: pillow>=6.2.0 in /home/swolf/miniconda3/envs/exercise1/lib/python3.8/site-packages (from matplotlib->captum) (8.3.2)\r\n",
      "Requirement already satisfied: six in /home/swolf/miniconda3/envs/exercise1/lib/python3.8/site-packages (from cycler>=0.10->matplotlib->captum) (1.16.0)\r\n"
     ]
    }
   ],
   "source": [
    "!pip install captum"
   ]
  },
  {
   "cell_type": "markdown",
   "metadata": {},
   "source": [
    "### Data\n",
    "\n",
    "The following will load the MNIST dataset, which already comes split into a training and testing dataset:"
   ]
  },
  {
   "cell_type": "code",
   "execution_count": 2,
   "metadata": {},
   "outputs": [
    {
     "name": "stderr",
     "output_type": "stream",
     "text": [
      "/home/swolf/miniconda3/envs/exercise1/lib/python3.8/site-packages/torchvision/datasets/mnist.py:498: UserWarning: The given NumPy array is not writeable, and PyTorch does not support non-writeable tensors. This means you can write to the underlying (supposedly non-writeable) NumPy array using the tensor. You may want to copy the array to protect its data or make it writeable before converting it to a tensor. This type of warning will be suppressed for the rest of this program. (Triggered internally at  /opt/conda/conda-bld/pytorch_1623448234945/work/torch/csrc/utils/tensor_numpy.cpp:180.)\n",
      "  return torch.from_numpy(parsed.astype(m[2], copy=False)).view(*s)\n"
     ]
    }
   ],
   "source": [
    "import torchvision\n",
    "\n",
    "train_dataset = torchvision.datasets.MNIST('~/mnist', train=True, download=True,\n",
    "                             transform=torchvision.transforms.Compose([\n",
    "                               torchvision.transforms.ToTensor(),\n",
    "                               torchvision.transforms.Normalize(\n",
    "                                 (0.1307,), (0.3081,))\n",
    "                             ]))\n",
    "\n",
    "test_dataset = torchvision.datasets.MNIST('~/mnist', train=False, download=True,\n",
    "                             transform=torchvision.transforms.Compose([\n",
    "                               torchvision.transforms.ToTensor(),\n",
    "                               torchvision.transforms.Normalize(\n",
    "                                 (0.1307,), (0.3081,))\n",
    "                             ]))\n",
    "\n",
    "# taint the dataset with a white pixel in the bottom right\n",
    "train_dataset.data[train_dataset.targets==7, 25, 25] = 255\n",
    "test_dataset.data[test_dataset.targets==7, 25, 25] = 255"
   ]
  },
  {
   "cell_type": "markdown",
   "metadata": {},
   "source": [
    "### Visualize the edited dataset\n",
    "\n",
    "Note that only \"7\" digits have been altered"
   ]
  },
  {
   "cell_type": "code",
   "execution_count": 3,
   "metadata": {},
   "outputs": [
    {
     "data": {
      "image/png": "[encoded data removed]",
      "text/plain": [
       "<Figure size 432x288 with 4 Axes>"
      ]
     },
     "metadata": {
      "needs_background": "light"
     },
     "output_type": "display_data"
    }
   ],
   "source": [
    "import matplotlib.pyplot as plt\n",
    "\n",
    "plt.subplot(1,4,1)\n",
    "plt.imshow(train_dataset[3][0][0], cmap=plt.get_cmap('gray'))\n",
    "plt.subplot(1,4,2)\n",
    "plt.imshow(train_dataset[23][0][0], cmap=plt.get_cmap('gray'))\n",
    "plt.subplot(1,4,3)\n",
    "plt.imshow(train_dataset[15][0][0], cmap=plt.get_cmap('gray'))\n",
    "plt.subplot(1,4,4)\n",
    "plt.imshow(train_dataset[29][0][0], cmap=plt.get_cmap('gray'))\n",
    "plt.show()"
   ]
  },
  {
   "cell_type": "markdown",
   "metadata": {},
   "source": [
    "#### Task 1.1 (Repeat) Implement a Convolutional Neural Network\n",
    "\n",
    "Create a CNN (inherit the model from `nn.Module`) using `pytorch` layers  the following specifications:\n",
    "* First, flatten the input image into a 1d tensor (2d counting the batch dimension)\n",
    "* Add 4 fully connected layer with relu activation and resulting feature maps of size [784, 256, 120, 84, 10]\n",
    "* Do not add a relu activation to the final output layer\n",
    "\n",
    "Name your network `dense_model`."
   ]
  },
  {
   "cell_type": "code",
   "execution_count": 4,
   "metadata": {},
   "outputs": [
    {
     "data": {
      "text/plain": [
       "'\\nImplement your solution here.\\n'"
      ]
     },
     "execution_count": 4,
     "metadata": {},
     "output_type": "execute_result"
    }
   ],
   "source": [
    "\"\"\"\n",
    "Implement your solution here.\n",
    "\"\"\""
   ]
  },
  {
   "cell_type": "markdown",
   "metadata": {},
   "source": [
    "### Solution"
   ]
  },
  {
   "cell_type": "code",
   "execution_count": 5,
   "metadata": {
    "scrolled": false
   },
   "outputs": [],
   "source": [
    "#########################\n",
    "# Solution for Task 1.1 #\n",
    "#########################\n",
    "\n",
    "import torch.nn as nn\n",
    "import torch.nn.functional as F\n",
    "    \n",
    "class dense_model(nn.Module):\n",
    "    def __init__(self):\n",
    "        super().__init__()\n",
    "        self.fc0 = nn.Linear(784, 256)\n",
    "        self.fc1 = nn.Linear(256, 120)\n",
    "        self.fc2 = nn.Linear(120, 84)\n",
    "        self.fc3 = nn.Linear(84, 10)\n",
    "\n",
    "    def forward(self, x):\n",
    "        x = torch.flatten(x, 1) # flatten all dimensions except batch\n",
    "        x = self.fc0(x)\n",
    "        x = F.relu(self.fc1(x))\n",
    "        x = F.relu(self.fc2(x))\n",
    "        x = self.fc3(x)\n",
    "        return x\n",
    "\n",
    "# class cnn_model(nn.Module):\n",
    "#     def __init__(self):\n",
    "#         super().__init__()\n",
    "#         self.conv1 = nn.Conv2d(1, 6, 5)\n",
    "#         self.pool = nn.MaxPool2d(2, 2)\n",
    "#         self.conv2 = nn.Conv2d(6, 16, 5)\n",
    "#         self.fc1 = nn.Linear(256, 120)\n",
    "#         self.fc2 = nn.Linear(120, 84)\n",
    "#         self.fc3 = nn.Linear(84, 10)\n",
    "\n",
    "#     def forward(self, x):\n",
    "#         x = self.pool(F.relu(self.conv1(x)))\n",
    "#         x = self.pool(F.relu(self.conv2(x)))\n",
    "#         x = torch.flatten(x, 1) # flatten all dimensions except batch\n",
    "#         x = F.relu(self.fc1(x))\n",
    "#         x = F.relu(self.fc2(x))\n",
    "#         x = self.fc3(x)\n",
    "#         return x"
   ]
  },
  {
   "cell_type": "markdown",
   "metadata": {},
   "source": [
    "#### Task 4.2 Train the Network\n",
    "\n",
    "Write a training function for the pytorch network\n",
    "\n",
    "*TODO: this task needs to be broken down into smaller subtasks*"
   ]
  },
  {
   "cell_type": "code",
   "execution_count": 6,
   "metadata": {},
   "outputs": [
    {
     "data": {
      "text/plain": [
       "'\\nImplement your solution here.\\n'"
      ]
     },
     "execution_count": 6,
     "metadata": {},
     "output_type": "execute_result"
    }
   ],
   "source": [
    "\"\"\"\n",
    "Implement your solution here.\n",
    "\"\"\""
   ]
  },
  {
   "cell_type": "code",
   "execution_count": 7,
   "metadata": {},
   "outputs": [],
   "source": [
    "#########################\n",
    "# Solution for Task 4.2 #\n",
    "#########################\n"
   ]
  },
  {
   "cell_type": "code",
   "execution_count": 8,
   "metadata": {},
   "outputs": [],
   "source": [
    "from tqdm.notebook import tqdm\n",
    "\n",
    "def train(epoch, network, criterion, optimizer, history):\n",
    "    network.train()\n",
    "    pbar = tqdm(total=len(train_dataset)//batch_size_train)\n",
    "    for batch_idx, (raw, target) in enumerate(train_loader):\n",
    "        optimizer.zero_grad()\n",
    "        raw = raw.cuda()\n",
    "        target = target.cuda()\n",
    "        output = network(raw)\n",
    "        loss = criterion(output, target)\n",
    "        loss.backward()\n",
    "        optimizer.step()\n",
    "        history[\"loss\"].append(loss.item())\n",
    "        pbar.update(1)\n",
    "    return history"
   ]
  },
  {
   "cell_type": "code",
   "execution_count": 10,
   "metadata": {},
   "outputs": [
    {
     "data": {
      "application/vnd.jupyter.widget-view+json": {
       "model_id": "d754358876f346bd826ebb2b66f9f23f",
       "version_major": 2,
       "version_minor": 0
      },
      "text/plain": [
       "  0%|          | 0/937 [00:00<?, ?it/s]"
      ]
     },
     "metadata": {},
     "output_type": "display_data"
    },
    {
     "data": {
      "application/vnd.jupyter.widget-view+json": {
       "model_id": "f330173563da49fa93c2c9ec3a303970",
       "version_major": 2,
       "version_minor": 0
      },
      "text/plain": [
       "  0%|          | 0/937 [00:00<?, ?it/s]"
      ]
     },
     "metadata": {},
     "output_type": "display_data"
    },
    {
     "data": {
      "application/vnd.jupyter.widget-view+json": {
       "model_id": "b08f65740dba4b8c83864d52b754a29f",
       "version_major": 2,
       "version_minor": 0
      },
      "text/plain": [
       "  0%|          | 0/937 [00:00<?, ?it/s]"
      ]
     },
     "metadata": {},
     "output_type": "display_data"
    }
   ],
   "source": [
    "import torch.optim as optim\n",
    "import torch\n",
    "\n",
    "n_epochs = 3\n",
    "batch_size_train = 64\n",
    "batch_size_test = 1000\n",
    "momentum = 0.5\n",
    "\n",
    "history = {\"loss\": []}\n",
    "model = dense_model().cuda()\n",
    "criterion = F.nll_loss\n",
    "\n",
    "test_loader = torch.utils.data.DataLoader(test_dataset,\n",
    "  batch_size=batch_size_test, shuffle=True)\n",
    "\n",
    "train_loader = torch.utils.data.DataLoader(train_dataset,\n",
    "  batch_size=batch_size_train, shuffle=True)\n",
    "\n",
    "criterion = nn.CrossEntropyLoss()\n",
    "optimizer = optim.SGD(model.parameters(), lr=0.001, momentum=0.9)\n",
    "\n",
    "for epoch in range(1, n_epochs + 1):\n",
    "    train(epoch, model, criterion, optimizer, history)"
   ]
  },
  {
   "cell_type": "code",
   "execution_count": 11,
   "metadata": {},
   "outputs": [
    {
     "data": {
      "text/plain": [
       "Text(0, 0.5, 'negative log likelihood loss')"
      ]
     },
     "execution_count": 11,
     "metadata": {},
     "output_type": "execute_result"
    },
    {
     "data": {
      "image/png": "[encoded data removed]",
      "text/plain": [
       "<Figure size 432x288 with 1 Axes>"
      ]
     },
     "metadata": {
      "needs_background": "light"
     },
     "output_type": "display_data"
    }
   ],
   "source": [
    "fig = plt.figure()\n",
    "plt.plot(history[\"loss\"], color='blue')\n",
    "plt.legend(['Train Loss'], loc='upper right')\n",
    "plt.xlabel('number of training examples seen')\n",
    "plt.ylabel('negative log likelihood loss')"
   ]
  },
  {
   "cell_type": "markdown",
   "metadata": {},
   "source": [
    "## Task 1.2 Interpret the trained classifier\n",
    "\n",
    "We can now investigate how the trained classifier makes it's descisions. We use an attribution algorithms (i.e. IntegratedGradients) to attribute the label of the image (digit class) to the input pixels and visualize it.\n",
    "\n",
    "* Familiarize yourself with the captum library by reading [this useful tutorial](https://captum.ai/tutorials/CIFAR_TorchVision_Interpret)\n",
    "* Visualize the `IntegratedGradients` of out trained classifier for an example image of a \"7\" digit\n",
    "* Visualize the `IntegratedGradients` of out trained classifier for an example image of a \"1\" digit"
   ]
  },
  {
   "cell_type": "markdown",
   "metadata": {},
   "source": [
    "### Solution"
   ]
  },
  {
   "cell_type": "code",
   "execution_count": 12,
   "metadata": {},
   "outputs": [],
   "source": [
    "from captum.attr import IntegratedGradients\n",
    "from captum.attr import DeepLift\n",
    "from captum.attr import NoiseTunnel\n",
    "from captum.attr import visualization as viz\n",
    "import numpy as np\n",
    "\n",
    "def attribute_image_features(algorithm, input, target, **kwargs):\n",
    "    model.zero_grad()\n",
    "    tensor_attributions = algorithm.attribute(input,\n",
    "                                              target=target,\n",
    "                                              **kwargs\n",
    "                                             )\n",
    "    return tensor_attributions\n"
   ]
  },
  {
   "cell_type": "code",
   "execution_count": 13,
   "metadata": {},
   "outputs": [],
   "source": [
    "def visulize_ig(idx):\n",
    "    input = test_dataset[idx][0].unsqueeze(0)\n",
    "    input.requires_grad = True\n",
    "    target = test_dataset[idx][1]\n",
    "    ig = IntegratedGradients(model.cpu())\n",
    "    attr_ig, delta = attribute_image_features(ig, input, target, baselines=input * 0, return_convergence_delta=True)\n",
    "    attr_ig = np.transpose(attr_ig[0].cpu().detach().numpy(), (1, 2, 0))\n",
    "    original_image = np.transpose((test_dataset[idx][0].detach().numpy() / 2) + 0.5, (1, 2, 0))\n",
    "\n",
    "    viz.visualize_image_attr(attr_ig, original_image, method=\"blended_heat_map\",sign=\"all\",\n",
    "                              show_colorbar=True, title=\"Overlayed Integrated Gradients\")"
   ]
  },
  {
   "cell_type": "code",
   "execution_count": 14,
   "metadata": {},
   "outputs": [
    {
     "data": {
      "image/png": "[encoded data removed]",
      "text/plain": [
       "<Figure size 432x432 with 2 Axes>"
      ]
     },
     "metadata": {
      "needs_background": "light"
     },
     "output_type": "display_data"
    }
   ],
   "source": [
    "visulize_ig(0)"
   ]
  },
  {
   "cell_type": "code",
   "execution_count": 15,
   "metadata": {},
   "outputs": [
    {
     "data": {
      "image/png": "[encoded data removed]",
      "text/plain": [
       "<Figure size 432x432 with 2 Axes>"
      ]
     },
     "metadata": {
      "needs_background": "light"
     },
     "output_type": "display_data"
    }
   ],
   "source": [
    "visulize_ig(2)\n",
    "\n"
   ]
  },
  {
   "cell_type": "code",
   "execution_count": null,
   "metadata": {},
   "outputs": [],
   "source": []
  },
  {
   "cell_type": "code",
   "execution_count": null,
   "metadata": {},
   "outputs": [],
   "source": []
  },
  {
   "cell_type": "code",
   "execution_count": null,
   "metadata": {},
   "outputs": [],
   "source": []
  },
  {
   "cell_type": "code",
   "execution_count": null,
   "metadata": {},
   "outputs": [],
   "source": []
  },
  {
   "cell_type": "code",
   "execution_count": null,
   "metadata": {},
   "outputs": [],
   "source": []
  },
  {
   "cell_type": "code",
   "execution_count": null,
   "metadata": {},
   "outputs": [],
   "source": []
  },
  {
   "cell_type": "code",
   "execution_count": null,
   "metadata": {},
   "outputs": [],
   "source": []
  }
 ],
 "metadata": {
  "kernelspec": {
   "display_name": "Python 3 (ipykernel)",
   "language": "python",
   "name": "python3"
  },
  "language_info": {
   "codemirror_mode": {
    "name": "ipython",
    "version": 3
   },
   "file_extension": ".py",
   "mimetype": "text/x-python",
   "name": "python",
   "nbconvert_exporter": "python",
   "pygments_lexer": "ipython3",
   "version": "3.8.0"
  }
 },
 "nbformat": 4,
 "nbformat_minor": 2
}
